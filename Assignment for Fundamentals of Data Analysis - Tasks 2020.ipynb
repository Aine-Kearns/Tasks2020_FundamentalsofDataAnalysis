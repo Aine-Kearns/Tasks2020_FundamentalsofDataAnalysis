{
 "cells": [
  {
   "cell_type": "markdown",
   "metadata": {},
   "source": [
    "# Assignment for Fundamentals of Data Analysis - Tasks 2020\n",
    "This jupyter notebook presents the four tasks required as part of the assignment for this module. The four tasks include: <br>\n",
    "1. count \n",
    "2. dicerolls\n",
    "3. numpy.random.binomial\n",
    "4. numpy.linspace\n",
    "***\n",
    "### References\n",
    "[1]. Whirlwind Tour of Python https://jakevdp.github.io/WhirlwindTourOfPython/ <br>\n",
    "[2]\n",
    " https://stackoverflow.com/questions/34498203/count-items-in-list-and-make-it-a-dictionary <br>\n",
    "[3] https://www.geeksforgeeks.org/get-method-dictionaries-python/#:~:text=In%20python%20dictionaries%2C%20following%20is,a%20value%20for%20a%20key.&text=The%20get()%20method%20is,if%20present%20in%20the%20dictionary. <br>\n",
    "[4] https://www.geeksforgeeks.org/pseudo-random-number-generator-prng/#:~:text=PRNGs%20are%20suitable%20for%20applications,are%20simulation%20and%20modeling%20applications.<br>\n",
    "[5] https://numpy.org/ <br>\n",
    "[6] https://stackoverflow.com/questions/50912819/how-to-combine-two-bar-chart-of-two-files-in-one-diagram-in-matplotlib-pandas <br>\n",
    "[7] https://en.wikipedia.org/wiki/Simpson%27s_paradox#:~:text=Simpson's%20paradox%2C%20which%20also%20goes,when%20these%20groups%20are%20combined. <br>\n"
   ]
  },
  {
   "cell_type": "markdown",
   "metadata": {},
   "source": [
    "## count\n",
    "This Python function takes a list as input and returns a dictionary of unique items in the list as keys and the number of\n",
    "times each item appears as values.<br>\n",
    "A dictionary is a collection of keys and values and maps keys to values[1]."
   ]
  },
  {
   "cell_type": "code",
   "execution_count": 1,
   "metadata": {},
   "outputs": [
    {
     "data": {
      "text/plain": [
       "{'A': 3, 'B': 1, 'C': 1}"
      ]
     },
     "execution_count": 1,
     "metadata": {},
     "output_type": "execute_result"
    }
   ],
   "source": [
    "# define the function\n",
    "def count(y):\n",
    "    # create a dictionary which will use input as keys and the number of times each item appears in the input list as the values\n",
    "    d = {}\n",
    "    for i in y:\n",
    "         # using .get method returns the value for the given key, if present in the dictionary \n",
    "         #If not, then it will return none [2, 3].\n",
    "        d[i] = d.get(i, 0) + 1\n",
    "    return d\n",
    "\n",
    "# create some data \n",
    "my_list = ['A', 'A', 'B', 'C', 'A',]\n",
    "\n",
    "# now we call the function\n",
    "count(my_list)\n"
   ]
  },
  {
   "cell_type": "markdown",
   "metadata": {},
   "source": [
    "## dicerolls\n",
    "This function simulates rolling a dice. The function take two parameters: the number of dice k and the number of times to roll the dice n. The function simulates randomly rolling k dice n times, keeping track of each total face value and returns a dictionary with the number of times each possible total face value occurred."
   ]
  },
  {
   "cell_type": "code",
   "execution_count": 2,
   "metadata": {},
   "outputs": [
    {
     "name": "stdout",
     "output_type": "stream",
     "text": [
      "The diceroll function has returned {7: 177, 6: 133, 11: 58, 10: 95, 4: 84, 3: 45, 2: 25, 8: 140, 5: 113, 9: 107, 12: 23}\n"
     ]
    },
    {
     "data": {
      "image/png": "[encoded data removed]",
      "text/plain": [
       "<Figure size 432x288 with 1 Axes>"
      ]
     },
     "metadata": {
      "needs_background": "light"
     },
     "output_type": "display_data"
    }
   ],
   "source": [
    "import numpy as np\n",
    "# using default_rng() will get a new instance of a Generator with the default BitGenerator (PCG64).\n",
    "rng = np.random.default_rng()\n",
    "\n",
    "\n",
    "def diceroll(k, n):\n",
    "    # create an empty list to start\n",
    "    l = []\n",
    "    for i in range(n):\n",
    "        # this will generate random integers with a value from 1 up to, but not inclusive of, 7 \n",
    "        # with size equal to k meaning that k number of values will be returned\n",
    "        a = rng.integers(1, 7, size = k)\n",
    "        # using sum will add up the elements in the array a\n",
    "        s = sum(a)\n",
    "        # add the sum value into the list \n",
    "        l.append(s)\n",
    "    # now call the count function defined above for the list l\n",
    "    v = count(l)\n",
    "    return v\n",
    "  \n",
    "# using the data outlined in the question where k = 2 and n = 1000    \n",
    "dice_data = diceroll(2,1000)\n",
    "print(\"The diceroll function has returned\", dice_data)\n",
    "\n",
    "import matplotlib.pyplot as plt\n",
    "import seaborn as sns\n",
    "\n",
    "# a histogram will provide a visual representation of the data\n",
    "plt.bar(dice_data.keys(), dice_data.values())\n",
    "plt.xlabel(\"Sum of the face value of the dice\")\n",
    "plt.ylabel(\"Frequency count\")\n",
    "plt.title(\"Diceroll Data Histogram\")\n",
    "plt.show()\n",
    "    \n"
   ]
  },
  {
   "cell_type": "markdown",
   "metadata": {},
   "source": [
    "## numpy.random.binomial\n",
    "This function simulate flipping a coin with a 50/50 chance of heads or tails. The numpy.random library allows for the use of pseudorandom numbers, this is suitable for applications where many random numbers are required [4] and the binomial distribution stimulates the flipping of a coin where the outcome is either head or tails [5] so there is a 50/50 or .5 chance of heads being the outcome of the action. I wasn't sure if I using the numpy.random.binomial function was permitted in this task so there are two python codes presented below. These codes simulates flipping a coin 100 times and the code is run 1,000 times,  keeping track of the number of heads in each of the 1,000 simulations. The barchart plot that is presented below uses the Seaborn package and presents the two datasets from two methods of flipping the coin to show they are comparable in their distributions.  "
   ]
  },
  {
   "cell_type": "code",
   "execution_count": 3,
   "metadata": {},
   "outputs": [
    {
     "name": "stdout",
     "output_type": "stream",
     "text": [
      "The coinflip() function has returned {51: 84, 49: 85, 48: 69, 47: 73, 42: 21, 50: 74, 43: 25, 58: 24, 54: 56, 55: 49, 56: 38, 53: 64, 36: 3, 66: 2, 46: 54, 57: 42, 62: 3, 40: 16, 52: 87, 45: 41, 39: 8, 44: 28, 59: 15, 41: 14, 61: 5, 60: 10, 38: 5, 65: 1, 67: 1, 63: 2, 37: 1}\n",
      "The numpy.random.binomial() function when passed through the count() function returns {46: 61, 56: 40, 48: 72, 42: 14, 45: 54, 51: 63, 50: 80, 49: 84, 44: 28, 54: 53, 43: 24, 47: 76, 55: 47, 61: 11, 57: 31, 38: 9, 52: 95, 59: 16, 67: 1, 53: 61, 60: 14, 58: 17, 39: 8, 40: 7, 37: 3, 35: 1, 41: 15, 33: 1, 64: 3, 68: 2, 65: 2, 36: 2, 63: 3, 32: 1, 62: 1}\n"
     ]
    },
    {
     "data": {
      "image/png": "[encoded data removed]",
      "text/plain": [
       "<Figure size 432x288 with 1 Axes>"
      ]
     },
     "metadata": {
      "needs_background": "light"
     },
     "output_type": "display_data"
    }
   ],
   "source": [
    "# k will be the number of coin flips per simulation\n",
    "# n will be the number of simulations \n",
    "\n",
    "# in order to present the data from two different methods of achieving the same outcome I will use a barchart\n",
    "# two dataframes will be represented on the barchart one from a function that I wrote and one from numpy.random.binomial\n",
    "# the numpy.random.binomial parameters are described in the numpy documentation [5]\n",
    "import pandas as pd\n",
    "\n",
    "def coinflip(k, n):\n",
    "    # using a similar approach to the function diceroll() above, we create an empty list to start\n",
    "    l = []\n",
    "    for i in range(n):\n",
    "        # we generate a random integers 0 or 1, where 0 is tails and 1 is heads \n",
    "        # with size equal to k number of values\n",
    "        a = rng.integers(2, size = k)\n",
    "        # using sum will add up the elements in the array a - this will be the number of heads\n",
    "        num_heads = sum(a)\n",
    "        # add the sum value into the list \n",
    "        l.append(num_heads)\n",
    "    # now call the count function defined above for the list l\n",
    "    v = count(l)\n",
    "    return v\n",
    "\n",
    "# using the data outlined in the question where the coin is flipped a 100 times (k=100) and this is simulated 1000 times(n=1000)\n",
    "coin_data = coinflip(100,1000)\n",
    "print(\"The coinflip() function has returned\", coin_data)\n",
    "\n",
    "\n",
    "#rng = np.random.default_rng() has already been called above\n",
    "# n is the number of trials which is 100, and p is the probability of each trial\n",
    "n, p, = 100, .5 \n",
    "# result of flipping a coin 100 times, tested 1000 times\n",
    "b = rng.binomial(n, p, 1000)\n",
    "# so using the count function that was created in task 1 to create a dictionary to count the unique items in the list\n",
    "num_bin = count(b)\n",
    "print(\"The numpy.random.binomial() function when passed through the count() function returns\", num_bin)\n",
    "\n",
    "\n",
    "# a barchat will provide a visual representation of the two sets of data - this technique was presented in reference [6].\n",
    "df1=pd.DataFrame({'number_heads':coin_data.keys(),'frequency_count':coin_data.values()})\n",
    "df2=pd.DataFrame({'number_heads':num_bin.keys(),'frequency_count':num_bin.values()})\n",
    "df1['hue']=\"coin_data\"\n",
    "df2['hue']=\"numpy.random.binomial\"\n",
    "res=pd.concat([df1,df2])\n",
    "sns.barplot(x='number_heads', y='frequency_count', data=res, hue='hue')\n",
    "plt.show()\n"
   ]
  },
  {
   "cell_type": "markdown",
   "metadata": {},
   "source": [
    "## numpy.linspace\n",
    "Four data sets are created using numpy. Each data set has an x array and a corresponding y array.  The x arrays are created using numpy.linspace and the y arrays are created using y = a * x + b where a and b are chosen for each x , y pair to demonstrate Simpson’s paradox. Simpson's paradox is a phenomenon in probability and statistics, in which a trend appears in several different groups of data but disappears or reverses when these groups are combined. This result is often encountered in social-science and medical-science statistics [7]. "
   ]
  },
  {
   "cell_type": "code",
   "execution_count": 22,
   "metadata": {},
   "outputs": [
    {
     "data": {
      "image/png": "[encoded data removed]",
      "text/plain": [
       "<Figure size 432x288 with 1 Axes>"
      ]
     },
     "metadata": {
      "needs_background": "light"
     },
     "output_type": "display_data"
    }
   ],
   "source": [
    "\n",
    "a = 2\n",
    "b = 5\n",
    "# create a data set with x array using numpy.linspace\n",
    "x = np.linspace(1.0, 20.0, num=20)\n",
    "y = a*x + b\n",
    "# using these x and y arrays to set up a dataframe with pandas library\n",
    "df1=pd.DataFrame({'x':x,'y':y})\n",
    "df1.plot()\n",
    "plt.show()"
   ]
  }
 ],
 "metadata": {
  "kernelspec": {
   "display_name": "Python 3",
   "language": "python",
   "name": "python3"
  },
  "language_info": {
   "codemirror_mode": {
    "name": "ipython",
    "version": 3
   },
   "file_extension": ".py",
   "mimetype": "text/x-python",
   "name": "python",
   "nbconvert_exporter": "python",
   "pygments_lexer": "ipython3",
   "version": "3.8.5"
  }
 },
 "nbformat": 4,
 "nbformat_minor": 4
}
