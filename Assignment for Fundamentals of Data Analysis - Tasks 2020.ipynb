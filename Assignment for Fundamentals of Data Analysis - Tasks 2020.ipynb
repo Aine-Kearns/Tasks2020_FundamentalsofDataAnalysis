{
 "cells": [
  {
   "cell_type": "markdown",
   "metadata": {},
   "source": [
    "# Assignment for Fundamentals of Data Analysis - Tasks 2020\n",
    "This jupyter notebook presents the four tasks required as part of the assignment for this module. The four tasks include: <br>\n",
    "1. count\n",
    "2. dicerolls\n",
    "3. numpy.random.binomial\n",
    "4."
   ]
  },
  {
   "cell_type": "markdown",
   "metadata": {},
   "source": [
    "## count\n",
    "This Python function takes a list as input and returns a dictionary of unique items in the list as keys and the number of\n",
    "times each item appears as values."
   ]
  },
  {
   "cell_type": "code",
   "execution_count": null,
   "metadata": {},
   "outputs": [],
   "source": []
  },
  {
   "cell_type": "markdown",
   "metadata": {},
   "source": [
    "## dicerolls\n",
    "This Python function simulates rolling dice. The function takes two parameters: the number of dice k and the number of times to roll the dice n. The function will simulate randomly rolling k dice n times, keeping track of each total face value. It then returns a dictionary with the number of times each possible total face value occurred."
   ]
  },
  {
   "cell_type": "code",
   "execution_count": null,
   "metadata": {},
   "outputs": [],
   "source": []
  },
  {
   "cell_type": "markdown",
   "metadata": {},
   "source": [
    "## numpy.random.binomial\n",
    "This Python function can be used to simulate flipping a coin with a 50/50 chance of heads or tails."
   ]
  }
 ],
 "metadata": {
  "kernelspec": {
   "display_name": "Python 3",
   "language": "python",
   "name": "python3"
  },
  "language_info": {
   "codemirror_mode": {
    "name": "ipython",
    "version": 3
   },
   "file_extension": ".py",
   "mimetype": "text/x-python",
   "name": "python",
   "nbconvert_exporter": "python",
   "pygments_lexer": "ipython3",
   "version": "3.8.5"
  }
 },
 "nbformat": 4,
 "nbformat_minor": 4
}
