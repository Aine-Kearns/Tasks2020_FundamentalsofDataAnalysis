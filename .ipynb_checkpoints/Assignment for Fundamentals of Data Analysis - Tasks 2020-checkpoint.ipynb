{
 "cells": [
  {
   "cell_type": "markdown",
   "metadata": {},
   "source": [
    "# Assignment for Fundamentals of Data Analysis - Tasks 2020\n",
    "This jupyter notebook presents the four tasks required as part of the assignment for this module. The four tasks include: <br>\n",
    "1. count \n",
    "2. dicerolls\n",
    "3. numpy.random.binomial\n",
    "4.\n",
    "***\n",
    "### References\n",
    "[1]. Whirlwind Tour of Python https://jakevdp.github.io/WhirlwindTourOfPython/ <br>\n",
    "[2]\n",
    " https://stackoverflow.com/questions/34498203/count-items-in-list-and-make-it-a-dictionary <br>\n",
    "[3] https://www.geeksforgeeks.org/get-method-dictionaries-python/#:~:text=In%20python%20dictionaries%2C%20following%20is,a%20value%20for%20a%20key.&text=The%20get()%20method%20is,if%20present%20in%20the%20dictionary. <br>\n",
    "[4] https://www.geeksforgeeks.org/pseudo-random-number-generator-prng/#:~:text=PRNGs%20are%20suitable%20for%20applications,are%20simulation%20and%20modeling%20applications.<br>\n",
    "[5] https://numpy.org/\n"
   ]
  },
  {
   "cell_type": "markdown",
   "metadata": {},
   "source": [
    "## count\n",
    "This Python function takes a list as input and returns a dictionary of unique items in the list as keys and the number of\n",
    "times each item appears as values.<br>\n",
    "A dictionary is a collection of keys and values and maps keys to values[1]."
   ]
  },
  {
   "cell_type": "code",
   "execution_count": 1,
   "metadata": {},
   "outputs": [
    {
     "name": "stdout",
     "output_type": "stream",
     "text": [
      "{'A': 3, 'B': 1, 'C': 1}\n"
     ]
    }
   ],
   "source": [
    "input = ['A', 'A', 'B', 'C', 'A']\n",
    "# create a list that will be called input\n",
    "\n",
    "my_dict = {}\n",
    "# create a dictionary which will use input as keys and the number of times each item appears in the input list as the values\n",
    "for i in input:\n",
    "    my_dict[i] = my_dict.get(i, 0) + 1\n",
    "    # using .get method returns the value for the given key, if present in the dictionary. If not, then it will return None [2,3].\n",
    "print(my_dict)\n"
   ]
  },
  {
   "cell_type": "code",
   "execution_count": 47,
   "metadata": {},
   "outputs": [
    {
     "data": {
      "text/plain": [
       "{'A': 3, 'B': 1, 'C': 1}"
      ]
     },
     "execution_count": 47,
     "metadata": {},
     "output_type": "execute_result"
    }
   ],
   "source": [
    "# define the function\n",
    "def count(y):\n",
    "    # create a dictionary which will use input as keys and the number of times each item appears in the input list as the values\n",
    "    d = {}\n",
    "    for i in y:\n",
    "         # using .get method returns the value for the given key, if present in the dictionary. If not, then it will return None [2,3]\n",
    "        d[i] = d.get(i, 0) + 1\n",
    "    return d\n",
    "\n",
    "# create some data \n",
    "my_list = ['A', 'A', 'B', 'C', 'A']\n",
    "\n",
    "# now we call the function\n",
    "count(my_list)\n"
   ]
  },
  {
   "cell_type": "markdown",
   "metadata": {},
   "source": [
    "## dicerolls\n",
    "This function simulates rolling a dice. The function take two parameters: the number of dice k and the number of times to roll the dice n. The function simulates randomly rolling k dice n times, keeping track of each total face value and returns a dictionary with the number of times each possible total face value occurred."
   ]
  },
  {
   "cell_type": "code",
   "execution_count": 106,
   "metadata": {},
   "outputs": [
    {
     "data": {
      "text/plain": [
       "6"
      ]
     },
     "execution_count": 106,
     "metadata": {},
     "output_type": "execute_result"
    }
   ],
   "source": [
    "import numpy as np\n",
    "# using default_rng() will get a new instance of a Generator with the default BitGenerator (PCG64).\n",
    "rng = np.random.default_rng()\n",
    "\n",
    "# this will return a random integer from 1 up to but not inclusive of 7 so will reflect all possible outcomes of a diceroll\n",
    "# for loop to handle any number of dice\n",
    "a = rng.integers(1, 7)\n",
    "a\n"
   ]
  },
  {
   "cell_type": "markdown",
   "metadata": {},
   "source": [
    "## numpy.random.binomial\n",
    "This function simulate flipping a coin with a 50/50 chance of heads or tails. The numpy.random library allows for the use of pseudorandom numbers, this is suitable for applications where many random numbers are required [4] and the binomial distribution stimulates the flipping of a coin where the outcome is either head or tails [5] so there is a 50/50 or .5 chance of heads being the outcome of the action. The code below simulates flipping a coin 100 times and the code is run 1,000 times,  __keeping track of the number of heads in each of the 1,000 simulations__. The histogram plot that is presented below uses the Seaborn package "
   ]
  },
  {
   "cell_type": "code",
   "execution_count": 21,
   "metadata": {},
   "outputs": [
    {
     "data": {
      "text/plain": [
       "<seaborn.axisgrid.FacetGrid at 0x1ace83674c0>"
      ]
     },
     "execution_count": 21,
     "metadata": {},
     "output_type": "execute_result"
    },
    {
     "data": {
      "image/png": "[encoded data removed]",
      "text/plain": [
       "<Figure size 360x360 with 1 Axes>"
      ]
     },
     "metadata": {
      "needs_background": "light"
     },
     "output_type": "display_data"
    }
   ],
   "source": [
    "import matplotlib.pyplot as plt\n",
    "import seaborn as sns\n",
    "#rng = np.random.default_rng() has already been called above\n",
    "\n",
    "n, p, = 100, .5 \n",
    "# n is the number of trials which is 100, and p is the probability of each trial\n",
    "b = rng.binomial(n, p, 1000)\n",
    "# result of flipping a coin 100 times, tested 1000 times\n",
    "sns.displot(b, kde=True)"
   ]
  },
  {
   "cell_type": "code",
   "execution_count": null,
   "metadata": {},
   "outputs": [],
   "source": []
  }
 ],
 "metadata": {
  "kernelspec": {
   "display_name": "Python 3",
   "language": "python",
   "name": "python3"
  },
  "language_info": {
   "codemirror_mode": {
    "name": "ipython",
    "version": 3
   },
   "file_extension": ".py",
   "mimetype": "text/x-python",
   "name": "python",
   "nbconvert_exporter": "python",
   "pygments_lexer": "ipython3",
   "version": "3.8.5"
  }
 },
 "nbformat": 4,
 "nbformat_minor": 4
}
